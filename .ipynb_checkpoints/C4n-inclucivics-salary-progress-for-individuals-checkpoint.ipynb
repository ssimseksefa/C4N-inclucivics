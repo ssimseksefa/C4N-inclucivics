{
 "cells": [
  {
   "cell_type": "code",
   "execution_count": 1,
   "metadata": {},
   "outputs": [],
   "source": [
    "import pandas as pd\n",
    "import numpy as np\n",
    "import matplotlib.pyplot as plt\n",
    "import seaborn as sns\n",
    "from selenium import webdriver"
   ]
  },
  {
   "cell_type": "markdown",
   "metadata": {},
   "source": [
    "## Getting the data"
   ]
  },
  {
   "cell_type": "markdown",
   "metadata": {},
   "source": [
    "Created a list for links to raw data on C4N github repo. So that I can connect files and create datframe in a loop without downloading the files one by one."
   ]
  },
  {
   "cell_type": "code",
   "execution_count": 2,
   "metadata": {
    "scrolled": true
   },
   "outputs": [
    {
     "data": {
      "text/plain": [
       "['https://github.com/code-for-nashville/inclucivics/blob/master/input/20150401.csv?raw=True',\n",
       " 'https://github.com/code-for-nashville/inclucivics/blob/master/input/20151001.csv?raw=True',\n",
       " 'https://github.com/code-for-nashville/inclucivics/blob/master/input/20160101.csv?raw=True',\n",
       " 'https://github.com/code-for-nashville/inclucivics/blob/master/input/20160401.csv?raw=True',\n",
       " 'https://github.com/code-for-nashville/inclucivics/blob/master/input/20160701.csv?raw=True',\n",
       " 'https://github.com/code-for-nashville/inclucivics/blob/master/input/20161001.csv?raw=True',\n",
       " 'https://github.com/code-for-nashville/inclucivics/blob/master/input/20170101.csv?raw=True',\n",
       " 'https://github.com/code-for-nashville/inclucivics/blob/master/input/20170401.csv?raw=True',\n",
       " 'https://github.com/code-for-nashville/inclucivics/blob/master/input/20170701.csv?raw=True',\n",
       " 'https://github.com/code-for-nashville/inclucivics/blob/master/input/20171001.csv?raw=True',\n",
       " 'https://github.com/code-for-nashville/inclucivics/blob/master/input/20180101.csv?raw=True',\n",
       " 'https://github.com/code-for-nashville/inclucivics/blob/master/input/20180401.csv?raw=True',\n",
       " 'https://github.com/code-for-nashville/inclucivics/blob/master/input/20180701.csv?raw=True',\n",
       " 'https://github.com/code-for-nashville/inclucivics/blob/master/input/20181001.csv?raw=True',\n",
       " 'https://github.com/code-for-nashville/inclucivics/blob/master/input/20190101.csv?raw=True',\n",
       " 'https://github.com/code-for-nashville/inclucivics/blob/master/input/20190401.csv?raw=True',\n",
       " 'https://github.com/code-for-nashville/inclucivics/blob/master/input/20190701.csv?raw=True',\n",
       " 'https://github.com/code-for-nashville/inclucivics/blob/master/input/20200101.csv?raw=True',\n",
       " 'https://github.com/code-for-nashville/inclucivics/blob/master/input/20200401.csv?raw=True',\n",
       " 'https://github.com/code-for-nashville/inclucivics/blob/master/input/20200801.csv?raw=True']"
      ]
     },
     "execution_count": 2,
     "metadata": {},
     "output_type": "execute_result"
    }
   ],
   "source": [
    "driver = webdriver.Firefox() # opens a firefox browser with selenium\n",
    "driver.get(\"https://github.com/code-for-nashville/inclucivics/tree/master/input\") # goes to github repo input file\n",
    "elements = driver.find_elements_by_partial_link_text('.csv') # finds the elements including .csv\n",
    "raw_links = []\n",
    "for element in elements[2:]: # started from third element because first two are from 2014 and does not include Date Started column which I'll use\n",
    "    link = element.get_attribute(\"href\")+'?raw=True' # created link for raw\n",
    "    raw_links.append(link) # added the raw link to a list\n",
    "driver.close() # close the browser\n",
    "raw_links"
   ]
  },
  {
   "cell_type": "code",
   "execution_count": 3,
   "metadata": {},
   "outputs": [
    {
     "data": {
      "text/plain": [
       "'20150401'"
      ]
     },
     "execution_count": 3,
     "metadata": {},
     "output_type": "execute_result"
    }
   ],
   "source": [
    "raw_links[0][68:76] # filename showing year and quarter?? or month"
   ]
  },
  {
   "cell_type": "code",
   "execution_count": 4,
   "metadata": {
    "scrolled": false
   },
   "outputs": [
    {
     "name": "stdout",
     "output_type": "stream",
     "text": [
      "For 20150401, %81.46 of the whole rows remained\n",
      "For 20151001, %81.85 of the whole rows remained\n"
     ]
    },
    {
     "name": "stderr",
     "output_type": "stream",
     "text": [
      "C:\\ProgramData\\Anaconda3\\lib\\site-packages\\ipykernel_launcher.py:21: FutureWarning: Sorting because non-concatenation axis is not aligned. A future version\n",
      "of pandas will change to not sort by default.\n",
      "\n",
      "To accept the future behavior, pass 'sort=True'.\n",
      "\n",
      "To retain the current behavior and silence the warning, pass sort=False\n",
      "\n"
     ]
    },
    {
     "name": "stdout",
     "output_type": "stream",
     "text": [
      "For 20160101, %82.31 of the whole rows remained\n",
      "For 20160401, %82.24 of the whole rows remained\n",
      "For 20160701, %82.24 of the whole rows remained\n",
      "For 20161001, %82.17 of the whole rows remained\n",
      "For 20170101, %82.07 of the whole rows remained\n",
      "For 20170401, %82.35 of the whole rows remained\n",
      "For 20170701, %82.31 of the whole rows remained\n",
      "For 20171001, %83.01 of the whole rows remained\n",
      "For 20180101, %82.96 of the whole rows remained\n",
      "For 20180401, %83.0 of the whole rows remained\n",
      "For 20180701, %82.05 of the whole rows remained\n",
      "For 20181001, %82.98 of the whole rows remained\n",
      "For 20190101, %83.06 of the whole rows remained\n",
      "For 20190401, %82.99 of the whole rows remained\n",
      "For 20190701, %82.46 of the whole rows remained\n",
      "For 20200101, %83.27 of the whole rows remained\n",
      "For 20200401, %83.12 of the whole rows remained\n",
      "For 20200801, %83.06 of the whole rows remained\n"
     ]
    }
   ],
   "source": [
    "df_final = pd.DataFrame()\n",
    "\n",
    "#  Getting the data for all quarters available and concatanating to a final dataframe\n",
    "\n",
    "for link in raw_links:\n",
    "\n",
    "    df = pd.read_csv(link) # created dataframe from the raw link\n",
    "    df['file'] = link[68:76] # added a column for showing the filename showing the year and quarter\n",
    "    df['Date Started'] = pd.to_datetime(df['Date Started']).dt.strftime('%m/%d/%Y') # formatting the Date Started column\n",
    "    df['Annual Salary'] = df['Annual Salary'].astype('str').str.replace(',','').astype('float') # formatting the Annual Salary column\n",
    "    df = df[df['Annual Salary']>0] # eleminates if salary is 0 or none\n",
    "\n",
    "#     Created an identifier for each raw(person), concatanated the informations which do not change over time\n",
    "#     Tried to put as many info as possible to make the identifier unique\n",
    "    df['identifier'] = df['Gender'] + df['Ethnic Code'].astype('str') + df['Year of Birth'].astype('str') + df['Date Started'].astype('str')\n",
    "#     Only get the identifier which is unique. Created identifier can not identify uniquely if there's multiple raws have the same identifier\n",
    "#     Downside is decreasing the amount of data \n",
    "    print('For ' + link[68:76] + ', %' + str(round(100*df[df.identifier.map(df.identifier.value_counts()) == 1].size/df.size,2)) + ' of the whole rows remained')\n",
    "    df = df[df.identifier.map(df.identifier.value_counts()) == 1]\n",
    "\n",
    "    df_final = pd.concat([df_final, df], ignore_index=True).sort_values(['identifier', 'file'])  \n",
    "\n",
    "# df_final"
   ]
  },
  {
   "cell_type": "code",
   "execution_count": 5,
   "metadata": {},
   "outputs": [],
   "source": [
    "# formatting the Ethnic Code Description column\n",
    "df_final.loc[df_final['Ethnic Code Description']== 'White', 'Ethnic Code Description'] = 'White (Not of Hispanic Origin)'\n",
    "df_final.loc[df_final['Ethnic Code Description']== 'Black', 'Ethnic Code Description'] = 'Black or African American'\n",
    "df_final.loc[df_final['Ethnic Code Description']== 'Asian', 'Ethnic Code Description'] = 'Asian or Pacific Islander'\n",
    "df_final.loc[df_final['Ethnic Code Description']== 'Hispanic', 'Ethnic Code Description'] = 'Hispanic or Latino of any race'\n",
    "df_final.loc[df_final['Ethnic Code Description']== 'American Indian/Alaskan Native', 'Ethnic Code Description'] = 'American Indian or Alaskan Native'\n",
    "  "
   ]
  },
  {
   "cell_type": "code",
   "execution_count": 6,
   "metadata": {},
   "outputs": [
    {
     "data": {
      "text/plain": [
       "<BarContainer object of 20 artists>"
      ]
     },
     "execution_count": 6,
     "metadata": {},
     "output_type": "execute_result"
    },
    {
     "data": {
      "image/png": "[encoded data removed]",
      "text/plain": [
       "<Figure size 432x288 with 1 Axes>"
      ]
     },
     "metadata": {},
     "output_type": "display_data"
    }
   ],
   "source": [
    "plt.xlabel('How many of the files, a person has information')\n",
    "plt.ylabel('The number of the unique persons')\n",
    "plt.xticks(np.arange(21))\n",
    "plt.bar(df_final.identifier.value_counts().value_counts().index, df_final.identifier.value_counts().value_counts().values)"
   ]
  },
  {
   "cell_type": "markdown",
   "metadata": {},
   "source": [
    "## The question:"
   ]
  },
  {
   "cell_type": "markdown",
   "metadata": {},
   "source": [
    "Should I look only the persons having information on all the files?"
   ]
  },
  {
   "cell_type": "code",
   "execution_count": 7,
   "metadata": {},
   "outputs": [
    {
     "name": "stdout",
     "output_type": "stream",
     "text": [
      "%30.03 of the employees have information in all the 20 files.\n"
     ]
    }
   ],
   "source": [
    "print('%' + str(round(100*df_final.identifier.value_counts().value_counts()[20]/df_final.identifier.value_counts().value_counts().sum(),2)) + ' of the employees have information in all the 20 files.')"
   ]
  },
  {
   "cell_type": "code",
   "execution_count": 8,
   "metadata": {},
   "outputs": [
    {
     "data": {
      "text/plain": [
       "White (Not of Hispanic Origin)       55180\n",
       "Black or African American            24980\n",
       "Hispanic or Latino of any race        2000\n",
       "Asian or Pacific Islander              740\n",
       "American Indian or Alaskan Native      120\n",
       "Two or More Races                       40\n",
       "Name: Ethnic Code Description, dtype: int64"
      ]
     },
     "execution_count": 8,
     "metadata": {},
     "output_type": "execute_result"
    }
   ],
   "source": [
    "df_melted = df_final[df_final.identifier.map(df_final.identifier.value_counts()) == 20].reset_index(drop=True)\n",
    "df_melted['Ethnic Code Description'].value_counts()"
   ]
  },
  {
   "cell_type": "code",
   "execution_count": 9,
   "metadata": {},
   "outputs": [
    {
     "data": {
      "text/html": [
       "<div>\n",
       "<style scoped>\n",
       "    .dataframe tbody tr th:only-of-type {\n",
       "        vertical-align: middle;\n",
       "    }\n",
       "\n",
       "    .dataframe tbody tr th {\n",
       "        vertical-align: top;\n",
       "    }\n",
       "\n",
       "    .dataframe thead th {\n",
       "        text-align: right;\n",
       "    }\n",
       "</style>\n",
       "<table border=\"1\" class=\"dataframe\">\n",
       "  <thead>\n",
       "    <tr style=\"text-align: right;\">\n",
       "      <th></th>\n",
       "      <th>Annual Salary</th>\n",
       "      <th>Class</th>\n",
       "      <th>Class #</th>\n",
       "      <th>Class .</th>\n",
       "      <th>County</th>\n",
       "      <th>Current Department</th>\n",
       "      <th>Current Dept Description</th>\n",
       "      <th>Date Started</th>\n",
       "      <th>EEO Job Cat</th>\n",
       "      <th>EEO Job Cat Desc</th>\n",
       "      <th>...</th>\n",
       "      <th>Ethnic Code Description</th>\n",
       "      <th>FLSA Exempt Y/N</th>\n",
       "      <th>FLSA Exempt?</th>\n",
       "      <th>Gender</th>\n",
       "      <th>Pay Grade / Step</th>\n",
       "      <th>Pay Grade/Step</th>\n",
       "      <th>Title</th>\n",
       "      <th>Year of Birth</th>\n",
       "      <th>file</th>\n",
       "      <th>identifier</th>\n",
       "    </tr>\n",
       "  </thead>\n",
       "  <tbody>\n",
       "    <tr>\n",
       "      <th>0</th>\n",
       "      <td>69186.06</td>\n",
       "      <td>NaN</td>\n",
       "      <td>NaN</td>\n",
       "      <td>7245.0</td>\n",
       "      <td>DAVIDSON</td>\n",
       "      <td>NaN</td>\n",
       "      <td>Water Services</td>\n",
       "      <td>02/01/1978</td>\n",
       "      <td>2.0</td>\n",
       "      <td>Professionals</td>\n",
       "      <td>...</td>\n",
       "      <td>White (Not of Hispanic Origin)</td>\n",
       "      <td>Y</td>\n",
       "      <td>NaN</td>\n",
       "      <td>F</td>\n",
       "      <td>NaN</td>\n",
       "      <td>SR1200</td>\n",
       "      <td>Admin Svcs Officer 4</td>\n",
       "      <td>1934</td>\n",
       "      <td>20150401</td>\n",
       "      <td>F1193402/01/1978</td>\n",
       "    </tr>\n",
       "    <tr>\n",
       "      <th>1</th>\n",
       "      <td>70915.71</td>\n",
       "      <td>NaN</td>\n",
       "      <td>NaN</td>\n",
       "      <td>7245.0</td>\n",
       "      <td>NaN</td>\n",
       "      <td>NaN</td>\n",
       "      <td>Water Services</td>\n",
       "      <td>02/01/1978</td>\n",
       "      <td>2.0</td>\n",
       "      <td>Professionals</td>\n",
       "      <td>...</td>\n",
       "      <td>White (Not of Hispanic Origin)</td>\n",
       "      <td>Y</td>\n",
       "      <td>NaN</td>\n",
       "      <td>F</td>\n",
       "      <td>NaN</td>\n",
       "      <td>SR1200</td>\n",
       "      <td>Admin Svcs Officer 4</td>\n",
       "      <td>1934</td>\n",
       "      <td>20151001</td>\n",
       "      <td>F1193402/01/1978</td>\n",
       "    </tr>\n",
       "    <tr>\n",
       "      <th>2</th>\n",
       "      <td>70915.71</td>\n",
       "      <td>NaN</td>\n",
       "      <td>NaN</td>\n",
       "      <td>7245.0</td>\n",
       "      <td>NaN</td>\n",
       "      <td>NaN</td>\n",
       "      <td>Water Services</td>\n",
       "      <td>02/01/1978</td>\n",
       "      <td>2.0</td>\n",
       "      <td>Professionals</td>\n",
       "      <td>...</td>\n",
       "      <td>White (Not of Hispanic Origin)</td>\n",
       "      <td>Y</td>\n",
       "      <td>NaN</td>\n",
       "      <td>F</td>\n",
       "      <td>NaN</td>\n",
       "      <td>SR1200</td>\n",
       "      <td>Admin Svcs Officer 4</td>\n",
       "      <td>1934</td>\n",
       "      <td>20160101</td>\n",
       "      <td>F1193402/01/1978</td>\n",
       "    </tr>\n",
       "    <tr>\n",
       "      <th>3</th>\n",
       "      <td>70915.71</td>\n",
       "      <td>NaN</td>\n",
       "      <td>7245.0</td>\n",
       "      <td>NaN</td>\n",
       "      <td>NaN</td>\n",
       "      <td>NaN</td>\n",
       "      <td>Water Services</td>\n",
       "      <td>02/01/1978</td>\n",
       "      <td>2.0</td>\n",
       "      <td>Professionals</td>\n",
       "      <td>...</td>\n",
       "      <td>White (Not of Hispanic Origin)</td>\n",
       "      <td>Y</td>\n",
       "      <td>NaN</td>\n",
       "      <td>F</td>\n",
       "      <td>NaN</td>\n",
       "      <td>SR1200</td>\n",
       "      <td>Admin Svcs Officer 4</td>\n",
       "      <td>1934</td>\n",
       "      <td>20160401</td>\n",
       "      <td>F1193402/01/1978</td>\n",
       "    </tr>\n",
       "    <tr>\n",
       "      <th>4</th>\n",
       "      <td>70915.71</td>\n",
       "      <td>NaN</td>\n",
       "      <td>7245.0</td>\n",
       "      <td>NaN</td>\n",
       "      <td>NaN</td>\n",
       "      <td>NaN</td>\n",
       "      <td>Water Services</td>\n",
       "      <td>02/01/1978</td>\n",
       "      <td>2.0</td>\n",
       "      <td>Professionals</td>\n",
       "      <td>...</td>\n",
       "      <td>White (Not of Hispanic Origin)</td>\n",
       "      <td>Y</td>\n",
       "      <td>NaN</td>\n",
       "      <td>F</td>\n",
       "      <td>NaN</td>\n",
       "      <td>SR1200</td>\n",
       "      <td>Admin Svcs Officer 4</td>\n",
       "      <td>1934</td>\n",
       "      <td>20160701</td>\n",
       "      <td>F1193402/01/1978</td>\n",
       "    </tr>\n",
       "  </tbody>\n",
       "</table>\n",
       "<p>5 rows × 24 columns</p>\n",
       "</div>"
      ],
      "text/plain": [
       "   Annual Salary  Class  Class #  Class .    County Current Department  \\\n",
       "0       69186.06    NaN      NaN   7245.0  DAVIDSON                NaN   \n",
       "1       70915.71    NaN      NaN   7245.0       NaN                NaN   \n",
       "2       70915.71    NaN      NaN   7245.0       NaN                NaN   \n",
       "3       70915.71    NaN   7245.0      NaN       NaN                NaN   \n",
       "4       70915.71    NaN   7245.0      NaN       NaN                NaN   \n",
       "\n",
       "  Current Dept Description Date Started  EEO Job Cat EEO Job Cat Desc  \\\n",
       "0           Water Services   02/01/1978          2.0    Professionals   \n",
       "1           Water Services   02/01/1978          2.0    Professionals   \n",
       "2           Water Services   02/01/1978          2.0    Professionals   \n",
       "3           Water Services   02/01/1978          2.0    Professionals   \n",
       "4           Water Services   02/01/1978          2.0    Professionals   \n",
       "\n",
       "         ...                Ethnic Code Description FLSA Exempt Y/N  \\\n",
       "0        ...         White (Not of Hispanic Origin)               Y   \n",
       "1        ...         White (Not of Hispanic Origin)               Y   \n",
       "2        ...         White (Not of Hispanic Origin)               Y   \n",
       "3        ...         White (Not of Hispanic Origin)               Y   \n",
       "4        ...         White (Not of Hispanic Origin)               Y   \n",
       "\n",
       "  FLSA Exempt?  Gender Pay Grade / Step Pay Grade/Step                 Title  \\\n",
       "0          NaN       F              NaN         SR1200  Admin Svcs Officer 4   \n",
       "1          NaN       F              NaN         SR1200  Admin Svcs Officer 4   \n",
       "2          NaN       F              NaN         SR1200  Admin Svcs Officer 4   \n",
       "3          NaN       F              NaN         SR1200  Admin Svcs Officer 4   \n",
       "4          NaN       F              NaN         SR1200  Admin Svcs Officer 4   \n",
       "\n",
       "  Year of Birth      file        identifier  \n",
       "0          1934  20150401  F1193402/01/1978  \n",
       "1          1934  20151001  F1193402/01/1978  \n",
       "2          1934  20160101  F1193402/01/1978  \n",
       "3          1934  20160401  F1193402/01/1978  \n",
       "4          1934  20160701  F1193402/01/1978  \n",
       "\n",
       "[5 rows x 24 columns]"
      ]
     },
     "execution_count": 9,
     "metadata": {},
     "output_type": "execute_result"
    }
   ],
   "source": [
    "df_melted.head()"
   ]
  },
  {
   "cell_type": "markdown",
   "metadata": {},
   "source": [
    "From here, we can look at the salary progress for each person. Like what percent increase compared to the salary at 20150401 which is the earliest data available. Then we can compare different races and genders."
   ]
  },
  {
   "cell_type": "code",
   "execution_count": 10,
   "metadata": {
    "scrolled": true
   },
   "outputs": [
    {
     "data": {
      "text/html": [
       "<div>\n",
       "<style scoped>\n",
       "    .dataframe tbody tr th:only-of-type {\n",
       "        vertical-align: middle;\n",
       "    }\n",
       "\n",
       "    .dataframe tbody tr th {\n",
       "        vertical-align: top;\n",
       "    }\n",
       "\n",
       "    .dataframe thead th {\n",
       "        text-align: right;\n",
       "    }\n",
       "</style>\n",
       "<table border=\"1\" class=\"dataframe\">\n",
       "  <thead>\n",
       "    <tr style=\"text-align: right;\">\n",
       "      <th></th>\n",
       "      <th>identifier</th>\n",
       "      <th>first_salary</th>\n",
       "    </tr>\n",
       "  </thead>\n",
       "  <tbody>\n",
       "    <tr>\n",
       "      <th>0</th>\n",
       "      <td>F1193402/01/1978</td>\n",
       "      <td>69186.06</td>\n",
       "    </tr>\n",
       "    <tr>\n",
       "      <th>1</th>\n",
       "      <td>F1193712/01/1992</td>\n",
       "      <td>41946.84</td>\n",
       "    </tr>\n",
       "    <tr>\n",
       "      <th>2</th>\n",
       "      <td>F1193808/22/2007</td>\n",
       "      <td>29490.00</td>\n",
       "    </tr>\n",
       "    <tr>\n",
       "      <th>3</th>\n",
       "      <td>F1193908/18/2014</td>\n",
       "      <td>30853.22</td>\n",
       "    </tr>\n",
       "    <tr>\n",
       "      <th>4</th>\n",
       "      <td>F1193909/01/1982</td>\n",
       "      <td>71928.00</td>\n",
       "    </tr>\n",
       "  </tbody>\n",
       "</table>\n",
       "</div>"
      ],
      "text/plain": [
       "         identifier  first_salary\n",
       "0  F1193402/01/1978      69186.06\n",
       "1  F1193712/01/1992      41946.84\n",
       "2  F1193808/22/2007      29490.00\n",
       "3  F1193908/18/2014      30853.22\n",
       "4  F1193909/01/1982      71928.00"
      ]
     },
     "execution_count": 10,
     "metadata": {},
     "output_type": "execute_result"
    }
   ],
   "source": [
    "# Measuring the first salary information available for each person\n",
    "df_initial_salary = df_melted.groupby('identifier').first()['Annual Salary'].reset_index().rename(columns={'Annual Salary': 'first_salary'})\n",
    "df_initial_salary.head()"
   ]
  },
  {
   "cell_type": "code",
   "execution_count": 11,
   "metadata": {},
   "outputs": [
    {
     "data": {
      "text/html": [
       "<div>\n",
       "<style scoped>\n",
       "    .dataframe tbody tr th:only-of-type {\n",
       "        vertical-align: middle;\n",
       "    }\n",
       "\n",
       "    .dataframe tbody tr th {\n",
       "        vertical-align: top;\n",
       "    }\n",
       "\n",
       "    .dataframe thead th {\n",
       "        text-align: right;\n",
       "    }\n",
       "</style>\n",
       "<table border=\"1\" class=\"dataframe\">\n",
       "  <thead>\n",
       "    <tr style=\"text-align: right;\">\n",
       "      <th></th>\n",
       "      <th>Annual Salary</th>\n",
       "      <th>Class</th>\n",
       "      <th>Class #</th>\n",
       "      <th>Class .</th>\n",
       "      <th>County</th>\n",
       "      <th>Current Department</th>\n",
       "      <th>Current Dept Description</th>\n",
       "      <th>Date Started</th>\n",
       "      <th>EEO Job Cat</th>\n",
       "      <th>EEO Job Cat Desc</th>\n",
       "      <th>...</th>\n",
       "      <th>FLSA Exempt?</th>\n",
       "      <th>Gender</th>\n",
       "      <th>Pay Grade / Step</th>\n",
       "      <th>Pay Grade/Step</th>\n",
       "      <th>Title</th>\n",
       "      <th>Year of Birth</th>\n",
       "      <th>file</th>\n",
       "      <th>identifier</th>\n",
       "      <th>first_salary</th>\n",
       "      <th>salary_progress</th>\n",
       "    </tr>\n",
       "  </thead>\n",
       "  <tbody>\n",
       "    <tr>\n",
       "      <th>0</th>\n",
       "      <td>69186.06</td>\n",
       "      <td>NaN</td>\n",
       "      <td>NaN</td>\n",
       "      <td>7245.0</td>\n",
       "      <td>DAVIDSON</td>\n",
       "      <td>NaN</td>\n",
       "      <td>Water Services</td>\n",
       "      <td>02/01/1978</td>\n",
       "      <td>2.0</td>\n",
       "      <td>Professionals</td>\n",
       "      <td>...</td>\n",
       "      <td>NaN</td>\n",
       "      <td>F</td>\n",
       "      <td>NaN</td>\n",
       "      <td>SR1200</td>\n",
       "      <td>Admin Svcs Officer 4</td>\n",
       "      <td>1934</td>\n",
       "      <td>20150401</td>\n",
       "      <td>F1193402/01/1978</td>\n",
       "      <td>69186.06</td>\n",
       "      <td>1.000</td>\n",
       "    </tr>\n",
       "    <tr>\n",
       "      <th>1</th>\n",
       "      <td>70915.71</td>\n",
       "      <td>NaN</td>\n",
       "      <td>NaN</td>\n",
       "      <td>7245.0</td>\n",
       "      <td>NaN</td>\n",
       "      <td>NaN</td>\n",
       "      <td>Water Services</td>\n",
       "      <td>02/01/1978</td>\n",
       "      <td>2.0</td>\n",
       "      <td>Professionals</td>\n",
       "      <td>...</td>\n",
       "      <td>NaN</td>\n",
       "      <td>F</td>\n",
       "      <td>NaN</td>\n",
       "      <td>SR1200</td>\n",
       "      <td>Admin Svcs Officer 4</td>\n",
       "      <td>1934</td>\n",
       "      <td>20151001</td>\n",
       "      <td>F1193402/01/1978</td>\n",
       "      <td>69186.06</td>\n",
       "      <td>1.025</td>\n",
       "    </tr>\n",
       "    <tr>\n",
       "      <th>2</th>\n",
       "      <td>70915.71</td>\n",
       "      <td>NaN</td>\n",
       "      <td>NaN</td>\n",
       "      <td>7245.0</td>\n",
       "      <td>NaN</td>\n",
       "      <td>NaN</td>\n",
       "      <td>Water Services</td>\n",
       "      <td>02/01/1978</td>\n",
       "      <td>2.0</td>\n",
       "      <td>Professionals</td>\n",
       "      <td>...</td>\n",
       "      <td>NaN</td>\n",
       "      <td>F</td>\n",
       "      <td>NaN</td>\n",
       "      <td>SR1200</td>\n",
       "      <td>Admin Svcs Officer 4</td>\n",
       "      <td>1934</td>\n",
       "      <td>20160101</td>\n",
       "      <td>F1193402/01/1978</td>\n",
       "      <td>69186.06</td>\n",
       "      <td>1.025</td>\n",
       "    </tr>\n",
       "    <tr>\n",
       "      <th>3</th>\n",
       "      <td>70915.71</td>\n",
       "      <td>NaN</td>\n",
       "      <td>7245.0</td>\n",
       "      <td>NaN</td>\n",
       "      <td>NaN</td>\n",
       "      <td>NaN</td>\n",
       "      <td>Water Services</td>\n",
       "      <td>02/01/1978</td>\n",
       "      <td>2.0</td>\n",
       "      <td>Professionals</td>\n",
       "      <td>...</td>\n",
       "      <td>NaN</td>\n",
       "      <td>F</td>\n",
       "      <td>NaN</td>\n",
       "      <td>SR1200</td>\n",
       "      <td>Admin Svcs Officer 4</td>\n",
       "      <td>1934</td>\n",
       "      <td>20160401</td>\n",
       "      <td>F1193402/01/1978</td>\n",
       "      <td>69186.06</td>\n",
       "      <td>1.025</td>\n",
       "    </tr>\n",
       "    <tr>\n",
       "      <th>4</th>\n",
       "      <td>70915.71</td>\n",
       "      <td>NaN</td>\n",
       "      <td>7245.0</td>\n",
       "      <td>NaN</td>\n",
       "      <td>NaN</td>\n",
       "      <td>NaN</td>\n",
       "      <td>Water Services</td>\n",
       "      <td>02/01/1978</td>\n",
       "      <td>2.0</td>\n",
       "      <td>Professionals</td>\n",
       "      <td>...</td>\n",
       "      <td>NaN</td>\n",
       "      <td>F</td>\n",
       "      <td>NaN</td>\n",
       "      <td>SR1200</td>\n",
       "      <td>Admin Svcs Officer 4</td>\n",
       "      <td>1934</td>\n",
       "      <td>20160701</td>\n",
       "      <td>F1193402/01/1978</td>\n",
       "      <td>69186.06</td>\n",
       "      <td>1.025</td>\n",
       "    </tr>\n",
       "  </tbody>\n",
       "</table>\n",
       "<p>5 rows × 26 columns</p>\n",
       "</div>"
      ],
      "text/plain": [
       "   Annual Salary  Class  Class #  Class .    County Current Department  \\\n",
       "0       69186.06    NaN      NaN   7245.0  DAVIDSON                NaN   \n",
       "1       70915.71    NaN      NaN   7245.0       NaN                NaN   \n",
       "2       70915.71    NaN      NaN   7245.0       NaN                NaN   \n",
       "3       70915.71    NaN   7245.0      NaN       NaN                NaN   \n",
       "4       70915.71    NaN   7245.0      NaN       NaN                NaN   \n",
       "\n",
       "  Current Dept Description Date Started  EEO Job Cat EEO Job Cat Desc  \\\n",
       "0           Water Services   02/01/1978          2.0    Professionals   \n",
       "1           Water Services   02/01/1978          2.0    Professionals   \n",
       "2           Water Services   02/01/1978          2.0    Professionals   \n",
       "3           Water Services   02/01/1978          2.0    Professionals   \n",
       "4           Water Services   02/01/1978          2.0    Professionals   \n",
       "\n",
       "        ...        FLSA Exempt? Gender Pay Grade / Step  Pay Grade/Step  \\\n",
       "0       ...                 NaN      F              NaN          SR1200   \n",
       "1       ...                 NaN      F              NaN          SR1200   \n",
       "2       ...                 NaN      F              NaN          SR1200   \n",
       "3       ...                 NaN      F              NaN          SR1200   \n",
       "4       ...                 NaN      F              NaN          SR1200   \n",
       "\n",
       "                  Title Year of Birth      file        identifier  \\\n",
       "0  Admin Svcs Officer 4          1934  20150401  F1193402/01/1978   \n",
       "1  Admin Svcs Officer 4          1934  20151001  F1193402/01/1978   \n",
       "2  Admin Svcs Officer 4          1934  20160101  F1193402/01/1978   \n",
       "3  Admin Svcs Officer 4          1934  20160401  F1193402/01/1978   \n",
       "4  Admin Svcs Officer 4          1934  20160701  F1193402/01/1978   \n",
       "\n",
       "  first_salary salary_progress  \n",
       "0     69186.06           1.000  \n",
       "1     69186.06           1.025  \n",
       "2     69186.06           1.025  \n",
       "3     69186.06           1.025  \n",
       "4     69186.06           1.025  \n",
       "\n",
       "[5 rows x 26 columns]"
      ]
     },
     "execution_count": 11,
     "metadata": {},
     "output_type": "execute_result"
    }
   ],
   "source": [
    "# Adding the initial salary as a new column\n",
    "df_merged = df_melted.merge(df_initial_salary, how='left', on='identifier')\n",
    "# Measuring the ratio of current salary to the first salary at 2015,Quarter 2\n",
    "df_merged['salary_progress'] = df_merged['Annual Salary']/df_merged.first_salary\n",
    "df_merged.head()"
   ]
  },
  {
   "cell_type": "code",
   "execution_count": 12,
   "metadata": {},
   "outputs": [],
   "source": [
    "df_merged.to_csv('data/merged_melted.csv')"
   ]
  },
  {
   "cell_type": "markdown",
   "metadata": {},
   "source": [
    "Going to visualize with Tableau"
   ]
  },
  {
   "cell_type": "code",
   "execution_count": null,
   "metadata": {},
   "outputs": [],
   "source": []
  }
 ],
 "metadata": {
  "kernelspec": {
   "display_name": "Python 3",
   "language": "python",
   "name": "python3"
  },
  "language_info": {
   "codemirror_mode": {
    "name": "ipython",
    "version": 3
   },
   "file_extension": ".py",
   "mimetype": "text/x-python",
   "name": "python",
   "nbconvert_exporter": "python",
   "pygments_lexer": "ipython3",
   "version": "3.6.5"
  }
 },
 "nbformat": 4,
 "nbformat_minor": 2
}
